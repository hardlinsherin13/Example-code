{
 "cells": [
  {
   "cell_type": "code",
   "execution_count": null,
   "id": "8be16eff-5963-4552-877b-ec52b04858e6",
   "metadata": {},
   "outputs": [
    {
     "name": "stdout",
     "output_type": "stream",
     "text": [
      "\u001b[H\u001b[2J\n",
      "Rock, Paper, Scissors - Shoot!\n"
     ]
    },
    {
     "name": "stdin",
     "output_type": "stream",
     "text": [
      "Choose your weapon [R]ock], [P]aper, or [S]cissors:  r\n"
     ]
    },
    {
     "name": "stdout",
     "output_type": "stream",
     "text": [
      "You chose: r\n",
      "I chose: P\n",
      "Paper beats rock, I win!\n"
     ]
    },
    {
     "name": "stdin",
     "output_type": "stream",
     "text": [
      "Do you wish to play again? (Yes or No):  yes\n"
     ]
    },
    {
     "name": "stdout",
     "output_type": "stream",
     "text": [
      "\n",
      "Rock, Paper, Scissors - Shoot!\n",
      "\u001b[H\u001b[2J"
     ]
    },
    {
     "name": "stdin",
     "output_type": "stream",
     "text": [
      "Choose your weapon [R]ock], [P]aper, or [S]cissors:  p\n"
     ]
    },
    {
     "name": "stdout",
     "output_type": "stream",
     "text": [
      "You chose: p\n",
      "I chose: P\n",
      "Tie!\n"
     ]
    },
    {
     "name": "stdin",
     "output_type": "stream",
     "text": [
      "Do you wish to play again? (Yes or No):  s\n"
     ]
    },
    {
     "name": "stdout",
     "output_type": "stream",
     "text": [
      "Yes or No only\n"
     ]
    },
    {
     "name": "stdin",
     "output_type": "stream",
     "text": [
      "Do you wish to play again? (Yes or No):  yes\n"
     ]
    },
    {
     "name": "stdout",
     "output_type": "stream",
     "text": [
      "\u001b[H\u001b[2J\n",
      "Rock, Paper, Scissors - Shoot!\n"
     ]
    },
    {
     "name": "stdin",
     "output_type": "stream",
     "text": [
      "Choose your weapon [R]ock], [P]aper, or [S]cissors:  s\n"
     ]
    },
    {
     "name": "stdout",
     "output_type": "stream",
     "text": [
      "You chose: s\n",
      "I chose: P\n",
      "You win!\n",
      "\n"
     ]
    },
    {
     "name": "stdin",
     "output_type": "stream",
     "text": [
      "Do you wish to play again? (Yes or No):  no\n"
     ]
    },
    {
     "name": "stdout",
     "output_type": "stream",
     "text": [
      "\u001b[H\u001b[2JThanks for playing!\n"
     ]
    }
   ],
   "source": [
    "import random\n",
    "import os\n",
    "import re\n",
    "\n",
    "\n",
    "def check_play_status():\n",
    "  valid_responses = ['yes', 'no']\n",
    "  while True:\n",
    "      try:\n",
    "          response = input('Do you wish to play again? (Yes or No): ')\n",
    "          if response.lower() not in valid_responses:\n",
    "              raise ValueError('Yes or No only')\n",
    "\n",
    "          if response.lower() == 'yes':\n",
    "              return True\n",
    "          else:\n",
    "              os.system('cls' if os.name == 'nt' else 'clear')\n",
    "              print('Thanks for playing!')\n",
    "              exit()\n",
    "\n",
    "      except ValueError as err:\n",
    "          print(err)\n",
    "\n",
    "\n",
    "def play_rps():\n",
    "   play = True\n",
    "   while play:\n",
    "       os.system('cls' if os.name == 'nt' else 'clear')\n",
    "       print('')\n",
    "       print('Rock, Paper, Scissors - Shoot!')\n",
    "\n",
    "       user_choice = input('Choose your weapon'\n",
    "                           ' [R]ock], [P]aper, or [S]cissors: ')\n",
    "\n",
    "       if not re.match(\"[SsRrPp]\", user_choice):\n",
    "           print('Please choose a letter:')\n",
    "           print('[R]ock, [P]aper, or [S]cissors')\n",
    "           continue\n",
    "\n",
    "       print(f'You chose: {user_choice}')\n",
    "\n",
    "       choices = ['R', 'P', 'S']\n",
    "       opp_choice = random.choice(choices)\n",
    "\n",
    "       print(f'I chose: {opp_choice}')\n",
    "\n",
    "       if opp_choice == user_choice.upper():\n",
    "           print('Tie!')\n",
    "           play = check_play_status()\n",
    "       elif opp_choice == 'R' and user_choice.upper() == 'S':\n",
    "           print('Rock beats scissors, I win!')\n",
    "           play = check_play_status()\n",
    "       elif opp_choice == 'S' and user_choice.upper() == 'P':\n",
    "           print('Scissors beats paper! I win!')\n",
    "           play = check_play_status()\n",
    "       elif opp_choice == 'P' and user_choice.upper() == 'R':\n",
    "           print('Paper beats rock, I win!')\n",
    "           play = check_play_status()\n",
    "       else:\n",
    "           print('You win!\\n')\n",
    "           play = check_play_status()\n",
    "\n",
    "\n",
    "if __name__ == '__main__':\n",
    "   play_rps()"
   ]
  },
  {
   "cell_type": "code",
   "execution_count": null,
   "id": "80d4b688-0ada-47e0-a082-db69eccf5125",
   "metadata": {},
   "outputs": [],
   "source": []
  }
 ],
 "metadata": {
  "kernelspec": {
   "display_name": "Python 3 (ipykernel)",
   "language": "python",
   "name": "python3"
  },
  "language_info": {
   "codemirror_mode": {
    "name": "ipython",
    "version": 3
   },
   "file_extension": ".py",
   "mimetype": "text/x-python",
   "name": "python",
   "nbconvert_exporter": "python",
   "pygments_lexer": "ipython3",
   "version": "3.11.5"
  }
 },
 "nbformat": 4,
 "nbformat_minor": 5
}
